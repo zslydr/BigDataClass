{
 "cells": [
  {
   "cell_type": "markdown",
   "metadata": {},
   "source": [
    "# Application of the epsilon greedy algorithm to beer recommendation methods"
   ]
  },
  {
   "cell_type": "code",
   "execution_count": 1,
   "metadata": {
    "collapsed": true
   },
   "outputs": [],
   "source": [
    "import os\n",
    "os.chdir('C:/Users/Raphael/Dropbox/Bandit Algo/') #Select your working directory\n",
    "cwd = os.getcwd()\n",
    "import pandas as pd\n",
    "import numpy as np\n",
    "import random"
   ]
  },
  {
   "cell_type": "markdown",
   "metadata": {},
   "source": [
    "## Creation of the Matrix<sub>nbBeers x nbUsers</sub> : grade given from each user for each beer."
   ]
  },
  {
   "cell_type": "code",
   "execution_count": 3,
   "metadata": {
    "collapsed": false
   },
   "outputs": [
    {
     "name": "stdout",
     "output_type": "stream",
     "text": [
      "                            0110x011  02maxima  03SVTCobra  05Harley  \\\n",
      "beer_name                                                              \n",
      "#9                               0.0       0.0         0.0       0.0   \n",
      "120 Minute IPA                   0.0       0.0         0.0       4.0   \n",
      "1554 Enlightened Black Ale       0.0       0.0         0.0       0.0   \n",
      "60 Minute IPA                    0.0       0.0         0.0       0.0   \n",
      "90 Minute IPA                    5.0       0.0         0.0       4.0   \n",
      "\n",
      "                            0Naught0  0beerguy0  0runkp0s  0tt0  1000Bottles  \\\n",
      "beer_name                                                                      \n",
      "#9                               0.0        0.0       0.0   0.0          0.0   \n",
      "120 Minute IPA                   0.0        0.0       0.0   1.5          0.0   \n",
      "1554 Enlightened Black Ale       0.0        0.0       0.0   0.0          0.0   \n",
      "60 Minute IPA                    0.0        0.0       0.0   0.0          0.0   \n",
      "90 Minute IPA                    0.0        0.0       0.0   0.0          0.0   \n",
      "\n",
      "                            1001111.0   ...    zuker  zulufactor  zumicroom  \\\n",
      "beer_name                               ...                                   \n",
      "#9                                0.0   ...      0.0         0.0        0.0   \n",
      "120 Minute IPA                    0.0   ...      0.0         0.0        0.0   \n",
      "1554 Enlightened Black Ale        0.0   ...      0.0         0.0        0.0   \n",
      "60 Minute IPA                     0.0   ...      0.0         0.0        0.0   \n",
      "90 Minute IPA                     0.0   ...      0.0         0.0        0.0   \n",
      "\n",
      "                            zwalk8  zwoehr  zymrgy  zymurgy4all  zymurgywhiz  \\\n",
      "beer_name                                                                      \n",
      "#9                             0.0     0.0     0.0          0.0          0.0   \n",
      "120 Minute IPA                 0.0     0.0     0.0          0.0          0.0   \n",
      "1554 Enlightened Black Ale     0.0     0.0     0.0          0.0          0.0   \n",
      "60 Minute IPA                  0.0     0.0     0.0          0.0          0.0   \n",
      "90 Minute IPA                  0.0     0.0     0.0          0.0          0.0   \n",
      "\n",
      "                            zythus  zyzygy  \n",
      "beer_name                                   \n",
      "#9                             0.0     0.0  \n",
      "120 Minute IPA                 0.0     0.0  \n",
      "1554 Enlightened Black Ale     0.0     0.0  \n",
      "60 Minute IPA                  0.0     0.0  \n",
      "90 Minute IPA                  0.0     0.0  \n",
      "\n",
      "[5 rows x 22140 columns]\n"
     ]
    }
   ],
   "source": [
    "df = pd.read_csv(\"beer_reviews.csv\")\n",
    "# Limit to the top 250 beers\n",
    "top_n = df.beer_name.value_counts().index[:250]\n",
    "df = df[df.beer_name.isin(top_n)]\n",
    "\n",
    "# Create a matrix of beer vs. reviews; values are overall review score\n",
    "df_wide = pd.pivot_table(df, values=[\"review_overall\"],\n",
    "        index=[\"beer_name\", \"review_profilename\"],\n",
    "        aggfunc=np.mean).unstack()\n",
    "df_wide = df_wide.fillna(0)\n",
    "df_wide.columns=[x[1] for x in list(df_wide.columns.values)]\n",
    "\n",
    "print(df_wide.head())\n",
    "\n",
    "#Split into train and test\n",
    "\n",
    "#The train will be used to train our differents recommendation models\n",
    "df_wide_train=df_wide.iloc[:,:int(np.floor(df_wide.shape[1]/2))]\n",
    "\n",
    "#The test will be used to simulate different users reacting to the recommandation they are given and to compute the reward\n",
    "df_wide_test=df_wide.iloc[:,int(np.floor(df_wide.shape[1]/2)):]"
   ]
  },
  {
   "cell_type": "markdown",
   "metadata": {},
   "source": [
    "## We consider here 3 recommendation methods, based on 3 different distance matrices"
   ]
  },
  {
   "cell_type": "code",
   "execution_count": 7,
   "metadata": {
    "collapsed": true
   },
   "outputs": [],
   "source": [
    "from sklearn.metrics.pairwise import (\n",
    "    euclidean_distances, cosine_similarity, pairwise_distances\n",
    ")\n",
    "\n",
    "# Calculate euclidean distance between each beer\n",
    "eucl_dists = euclidean_distances(df_wide_train)\n",
    "eucl_dists = pd.DataFrame(eucl_dists, columns=df_wide_train.index)\n",
    "eucl_dists.index = eucl_dists.columns\n",
    "\n",
    "# Calculate cosine similarity\n",
    "cos_dists = cosine_similarity(df_wide_train)\n",
    "cos_dists = pd.DataFrame(cos_dists, columns=df_wide_train.index)\n",
    "cos_dists.index = cos_dists.columns\n",
    "\n",
    "# Calculate distance correlation\n",
    "corr_dists = pairwise_distances(df_wide_train,metric='correlation')\n",
    "corr_dists = pd.DataFrame(corr_dists, columns=df_wide_train.index)\n",
    "corr_dists.index = corr_dists.columns\n",
    "\n",
    "# Use distance matrix to determine similarity\n",
    "def get_sims(products, dists):\n",
    "    \"\"\"Return similarity matrix\"\"\"\n",
    "    p = dists[products].apply(lambda row: np.sum(row), axis=1)\n",
    "    boo=all(cos_dists==dists)\n",
    "    p = p.sort_values(ascending=boo)\n",
    "    return p.index[p.index.isin(products)==False]"
   ]
  },
  {
   "cell_type": "markdown",
   "metadata": {},
   "source": [
    "## Let us look at a little example on how it works"
   ]
  },
  {
   "cell_type": "code",
   "execution_count": 8,
   "metadata": {
    "collapsed": false
   },
   "outputs": [
    {
     "name": "stdout",
     "output_type": "stream",
     "text": [
      "Products similar to: Sierra Nevada Pale Ale, 120 Minute IPA, Coors Light\n"
     ]
    },
    {
     "data": {
      "text/html": [
       "<div>\n",
       "<table border=\"1\" class=\"dataframe\">\n",
       "  <thead>\n",
       "    <tr style=\"text-align: right;\">\n",
       "      <th></th>\n",
       "      <th>Cosine Similarity</th>\n",
       "      <th>Distance Correlation</th>\n",
       "      <th>Euclidean Distance</th>\n",
       "    </tr>\n",
       "  </thead>\n",
       "  <tbody>\n",
       "    <tr>\n",
       "      <th>0</th>\n",
       "      <td>Founders Porter</td>\n",
       "      <td>Samuel Adams Boston Lager</td>\n",
       "      <td>Samuel Adams Cranberry Lambic</td>\n",
       "    </tr>\n",
       "    <tr>\n",
       "      <th>1</th>\n",
       "      <td>Vanilla Porter</td>\n",
       "      <td>Sierra Nevada Celebration Ale</td>\n",
       "      <td>Bud Light</td>\n",
       "    </tr>\n",
       "    <tr>\n",
       "      <th>2</th>\n",
       "      <td>Raging Bitch Belgian-Style IPA</td>\n",
       "      <td>HopDevil Ale</td>\n",
       "      <td>Corona Extra</td>\n",
       "    </tr>\n",
       "    <tr>\n",
       "      <th>3</th>\n",
       "      <td>Terrapin Coffee Oatmeal Imperial Stout</td>\n",
       "      <td>Stone IPA (India Pale Ale)</td>\n",
       "      <td>Miller Lite</td>\n",
       "    </tr>\n",
       "    <tr>\n",
       "      <th>4</th>\n",
       "      <td>The Abyss</td>\n",
       "      <td>60 Minute IPA</td>\n",
       "      <td>Heineken Lager Beer</td>\n",
       "    </tr>\n",
       "    <tr>\n",
       "      <th>5</th>\n",
       "      <td>Supplication</td>\n",
       "      <td>Samuel Adams Summer Ale</td>\n",
       "      <td>Long Hammer IPA</td>\n",
       "    </tr>\n",
       "    <tr>\n",
       "      <th>6</th>\n",
       "      <td>Founders Backwoods Bastard</td>\n",
       "      <td>Arrogant Bastard Ale</td>\n",
       "      <td>Shiner Bock</td>\n",
       "    </tr>\n",
       "    <tr>\n",
       "      <th>7</th>\n",
       "      <td>New Holland Dragon's Milk Oak Barrel Ale</td>\n",
       "      <td>Anchor Steam Beer</td>\n",
       "      <td>Red Stripe Jamaican Lager</td>\n",
       "    </tr>\n",
       "    <tr>\n",
       "      <th>8</th>\n",
       "      <td>Furious</td>\n",
       "      <td>Stone Ruination IPA</td>\n",
       "      <td>Samuel Adams Cherry Wheat</td>\n",
       "    </tr>\n",
       "    <tr>\n",
       "      <th>9</th>\n",
       "      <td>Creme Brulee (Imperial Milk Stout)</td>\n",
       "      <td>Samuel Adams Winter Lager</td>\n",
       "      <td>Snake Dog IPA</td>\n",
       "    </tr>\n",
       "  </tbody>\n",
       "</table>\n",
       "</div>"
      ],
      "text/plain": [
       "                          Cosine Similarity           Distance Correlation  \\\n",
       "0                           Founders Porter      Samuel Adams Boston Lager   \n",
       "1                            Vanilla Porter  Sierra Nevada Celebration Ale   \n",
       "2            Raging Bitch Belgian-Style IPA                   HopDevil Ale   \n",
       "3    Terrapin Coffee Oatmeal Imperial Stout     Stone IPA (India Pale Ale)   \n",
       "4                                 The Abyss                  60 Minute IPA   \n",
       "5                              Supplication        Samuel Adams Summer Ale   \n",
       "6                Founders Backwoods Bastard           Arrogant Bastard Ale   \n",
       "7  New Holland Dragon's Milk Oak Barrel Ale              Anchor Steam Beer   \n",
       "8                                   Furious            Stone Ruination IPA   \n",
       "9        Creme Brulee (Imperial Milk Stout)      Samuel Adams Winter Lager   \n",
       "\n",
       "              Euclidean Distance  \n",
       "0  Samuel Adams Cranberry Lambic  \n",
       "1                      Bud Light  \n",
       "2                   Corona Extra  \n",
       "3                    Miller Lite  \n",
       "4            Heineken Lager Beer  \n",
       "5                Long Hammer IPA  \n",
       "6                    Shiner Bock  \n",
       "7      Red Stripe Jamaican Lager  \n",
       "8      Samuel Adams Cherry Wheat  \n",
       "9                  Snake Dog IPA  "
      ]
     },
     "execution_count": 8,
     "metadata": {},
     "output_type": "execute_result"
    }
   ],
   "source": [
    "products = [\"Sierra Nevada Pale Ale\", \"120 Minute IPA\", \"Coors Light\"]\n",
    "\n",
    "eucl_prods = get_sims(products,eucl_dists)[:10]\n",
    "cos_prods = get_sims(products,cos_dists)[:10]\n",
    "corr_prods = get_sims(products,corr_dists)[:10]\n",
    "\n",
    "print(\"Products similar to:\", ', '.join(products))\n",
    "pd.DataFrame({'Euclidean Distance': eucl_prods,\n",
    "        \"Cosine Similarity\":cos_prods,\n",
    "        \"Distance Correlation\":corr_prods})"
   ]
  },
  {
   "cell_type": "markdown",
   "metadata": {},
   "source": [
    "## We can now define the different classes corresponding to the different recommendation methods"
   ]
  },
  {
   "cell_type": "code",
   "execution_count": 26,
   "metadata": {
    "collapsed": true
   },
   "outputs": [],
   "source": [
    "class EuclideanBeerRec():\n",
    "    def __init__(self,top_k):\n",
    "        self.beers=top_k\n",
    "        \n",
    "    def execute(self):\n",
    "        beers=self.beers\n",
    "        suggested_beers = get_sims(beers,eucl_dists)[:10]\n",
    "        result = []\n",
    "        for beer in suggested_beers:\n",
    "            result.append(beer)\n",
    "        return result\n",
    "\n",
    "class CosineBeerRec():\n",
    "    def __init__(self,top_k):\n",
    "        self.beers=top_k\n",
    "\n",
    "    def execute(self):\n",
    "        beers=self.beers\n",
    "        suggested_beers = get_sims(beers,cos_dists)[:10]\n",
    "        result = []\n",
    "        for beer in suggested_beers:\n",
    "            result.append(beer)\n",
    "        return result\n",
    "\n",
    "class CorrelationBeerRec():\n",
    "    def __init__(self,top_k):\n",
    "        self.beers=top_k\n",
    "\n",
    "    def execute(self):\n",
    "        beers=self.beers\n",
    "        suggested_beers = get_sims(beers,corr_dists)[:10]\n",
    "        result = []\n",
    "        for beer in suggested_beers:\n",
    "            result.append(beer)\n",
    "        return result"
   ]
  },
  {
   "cell_type": "markdown",
   "metadata": {},
   "source": [
    "## Below is the code for the espilon greedy algorithm"
   ]
  },
  {
   "cell_type": "code",
   "execution_count": 9,
   "metadata": {
    "collapsed": true
   },
   "outputs": [],
   "source": [
    "class EpsilonGreedy(object):\n",
    "    def __init__(self,n_arms,epsilon_decay=50):\n",
    "        self.counts = [0] * n_arms  # example: number of views\n",
    "        self.values = [0.] * n_arms # example: number of clicks / views\n",
    "        self.decay = epsilon_decay\n",
    "        self.n = n_arms\n",
    "\n",
    "    def choose_arm(self):\n",
    "        \"\"\"Choose an arm for testing\"\"\"\n",
    "        epsilon = self.get_epsilon()\n",
    "        if np.random.random() > epsilon:\n",
    "            # Exploit (use best arm)\n",
    "            return np.argmax(self.values)\n",
    "        else:\n",
    "            # Explore (test all arms)\n",
    "            return np.random.randint(self.n)\n",
    "\n",
    "    def update(self,arm,reward):\n",
    "        \"\"\"Update an arm with some reward value\"\"\" # Example: click = 1; no click = 0\n",
    "        self.counts[arm] = self.counts[arm] + 1\n",
    "        n = self.counts[arm]\n",
    "        value = self.values[arm]\n",
    "        # Running product\n",
    "        new_value = ((n - 1) / float(n)) * value + (1 / float(n)) * reward\n",
    "        self.values[arm] = new_value\n",
    "\n",
    "    def get_epsilon(self):\n",
    "        \"\"\"Produce epsilon\"\"\"\n",
    "        total = np.sum(self.counts)\n",
    "        return float(self.decay) / (total + float(self.decay))"
   ]
  },
  {
   "cell_type": "markdown",
   "metadata": {},
   "source": [
    "## Now, we have to get the k best rated beers by user (here we choose 4)"
   ]
  },
  {
   "cell_type": "code",
   "execution_count": 14,
   "metadata": {
    "collapsed": true
   },
   "outputs": [],
   "source": [
    "list_beer=list(df_wide_test.index.values)\n",
    "\n",
    "def get_top_k(row,ind,k):\n",
    "    return([ind[x] for x in row.argsort()[-k:][::-1]])\n",
    "\n",
    "df_wide_test=df_wide_test.transpose()\n",
    "\n",
    "df_wide_test[\"top_k\"]=df_wide_test.apply(get_top_k,ind=list_beer,k=4,axis=1)"
   ]
  },
  {
   "cell_type": "markdown",
   "metadata": {},
   "source": [
    "In order to define a reward in our case, we will consider the k-1 favorite beers of an user. We will then predict 10 beers to recommend and see whether the k<sup>th</sup> is in the 10 beers, mainly focusing in its ranking. We will then define a score between 0 and 1 based on the function f given in the code below:"
   ]
  },
  {
   "cell_type": "code",
   "execution_count": 10,
   "metadata": {
    "collapsed": true
   },
   "outputs": [],
   "source": [
    "def f(x):\n",
    "    return((1 - (x / 9.)) ** 2)\n",
    "\n",
    "def get_reward(fav,pred):\n",
    "    x= [i for i,x in enumerate(pred) if x == fav]\n",
    "    if x!=[]:\n",
    "        return(f(x[0]))\n",
    "    else:\n",
    "        return(0)"
   ]
  },
  {
   "cell_type": "markdown",
   "metadata": {},
   "source": [
    "## Execution of the bandit algorithm"
   ]
  },
  {
   "cell_type": "code",
   "execution_count": 29,
   "metadata": {
    "collapsed": false
   },
   "outputs": [
    {
     "name": "stdout",
     "output_type": "stream",
     "text": [
      "[0.022365776629342488, 0.0, 0.03328798453229328]\n",
      "Using the epsilon greedy algorithm, the best recommendation method is CorrelationBeerRec\n"
     ]
    }
   ],
   "source": [
    "arms = [\"EuclieanBeerRec\",\"CosineBeerRec\",\"CorrelationBeerRec\"]\n",
    "classes=[EuclideanBeerRec,CosineBeerRec,CorrelationBeerRec]\n",
    "bandit = EpsilonGreedy(len(arms))\n",
    "for x in list(df_wide_test.index.values):\n",
    "    user=x\n",
    "    top_k=df_wide_test[\"top_k\"].loc[user]\n",
    "    top_k_minus_one=top_k[:-1]\n",
    "    fav=top_k[-1]\n",
    "    \n",
    "    arm = bandit.choose_arm()\n",
    "    \n",
    "    arm_name = arms[arm]\n",
    "    \n",
    "    pred = classes[arm](top_k_minus_one).execute()\n",
    "    \n",
    "    bandit.update(arm,get_reward(fav,pred))\n",
    "\n",
    "print(bandit.values)\n",
    "best=arms[bandit.values.index(max(bandit.values))]\n",
    "print(\"Using the epsilon greedy algorithm, the best recommendation method is \"+best)"
   ]
  }
 ],
 "metadata": {
  "kernelspec": {
   "display_name": "Python 3",
   "language": "python",
   "name": "python3"
  },
  "language_info": {
   "codemirror_mode": {
    "name": "ipython",
    "version": 3
   },
   "file_extension": ".py",
   "mimetype": "text/x-python",
   "name": "python",
   "nbconvert_exporter": "python",
   "pygments_lexer": "ipython3",
   "version": "3.6.0"
  }
 },
 "nbformat": 4,
 "nbformat_minor": 2
}
